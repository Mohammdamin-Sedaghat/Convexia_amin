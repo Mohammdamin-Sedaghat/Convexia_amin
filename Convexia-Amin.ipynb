{
 "cells": [
  {
   "cell_type": "code",
   "execution_count": 87,
   "id": "0e1ff392",
   "metadata": {},
   "outputs": [],
   "source": [
    "import pandas as pd\n",
    "from extract_targets import extract"
   ]
  },
  {
   "cell_type": "markdown",
   "id": "c80e5aca",
   "metadata": {},
   "source": [
    "NOTE:\n",
    "\n",
    "-- Before you start, note that a few of the files were too big for github, so the zipped version is available. Please unzip"
   ]
  },
  {
   "cell_type": "markdown",
   "id": "4bad2d77",
   "metadata": {},
   "source": [
    "First, we load the database of the targets to check for. \n",
    "\n",
    "This has been done by scraping a recent article on top 50 CROs, however, we can choose any number of top candidates we want. e.g. I choose 20 for the sake of this project."
   ]
  },
  {
   "cell_type": "markdown",
   "id": "c98ecdd2",
   "metadata": {},
   "source": [
    "Since this step takes some time, **it has been done beforehand!** You can just skip this step"
   ]
  },
  {
   "cell_type": "code",
   "execution_count": 88,
   "id": "94fc721e",
   "metadata": {},
   "outputs": [],
   "source": [
    "#By not providing any argument, it defaults to the entire list,\n",
    "#  however, if we want the top 20 we can just call it with 20\n",
    "if False:\n",
    "    extract(50)"
   ]
  },
  {
   "cell_type": "markdown",
   "id": "78a2a870",
   "metadata": {},
   "source": [
    "The extract saves the data in this path so we can just load it whenever without recalling the above step"
   ]
  },
  {
   "cell_type": "code",
   "execution_count": 89,
   "id": "9ffe71d2",
   "metadata": {},
   "outputs": [
    {
     "data": {
      "text/html": [
       "<div>\n",
       "<style scoped>\n",
       "    .dataframe tbody tr th:only-of-type {\n",
       "        vertical-align: middle;\n",
       "    }\n",
       "\n",
       "    .dataframe tbody tr th {\n",
       "        vertical-align: top;\n",
       "    }\n",
       "\n",
       "    .dataframe thead th {\n",
       "        text-align: right;\n",
       "    }\n",
       "</style>\n",
       "<table border=\"1\" class=\"dataframe\">\n",
       "  <thead>\n",
       "    <tr style=\"text-align: right;\">\n",
       "      <th></th>\n",
       "      <th>name</th>\n",
       "      <th>specialization</th>\n",
       "      <th>notable_client</th>\n",
       "    </tr>\n",
       "  </thead>\n",
       "  <tbody>\n",
       "    <tr>\n",
       "      <th>0</th>\n",
       "      <td>ICON plc</td>\n",
       "      <td>Full-service</td>\n",
       "      <td>Pfizer, Bristol Myers Squibb</td>\n",
       "    </tr>\n",
       "    <tr>\n",
       "      <th>1</th>\n",
       "      <td>IQVIA</td>\n",
       "      <td>Full-service</td>\n",
       "      <td>Novartis, Merck</td>\n",
       "    </tr>\n",
       "    <tr>\n",
       "      <th>2</th>\n",
       "      <td>Parexel</td>\n",
       "      <td>Late-phase, full-service</td>\n",
       "      <td>GlaxoSmithKline, AstraZeneca</td>\n",
       "    </tr>\n",
       "    <tr>\n",
       "      <th>3</th>\n",
       "      <td>Syneos Health</td>\n",
       "      <td>Full-service</td>\n",
       "      <td>Eli Lilly, Johnson &amp; Johnson</td>\n",
       "    </tr>\n",
       "    <tr>\n",
       "      <th>4</th>\n",
       "      <td>Medpace</td>\n",
       "      <td>Niche (oncology, rare disease)</td>\n",
       "      <td>Roche, Gilead</td>\n",
       "    </tr>\n",
       "  </tbody>\n",
       "</table>\n",
       "</div>"
      ],
      "text/plain": [
       "            name                  specialization                notable_client\n",
       "0       ICON plc                    Full-service  Pfizer, Bristol Myers Squibb\n",
       "1          IQVIA                    Full-service               Novartis, Merck\n",
       "2        Parexel        Late-phase, full-service  GlaxoSmithKline, AstraZeneca\n",
       "3  Syneos Health                    Full-service  Eli Lilly, Johnson & Johnson\n",
       "4        Medpace  Niche (oncology, rare disease)                 Roche, Gilead"
      ]
     },
     "execution_count": 89,
     "metadata": {},
     "output_type": "execute_result"
    }
   ],
   "source": [
    "targets = pd.read_csv(\"data/targets.csv\")\n",
    "targets.head()"
   ]
  },
  {
   "cell_type": "markdown",
   "id": "4da743ec",
   "metadata": {},
   "source": [
    "To create standardized names, we used AI to get us any other name that any of these companies have been known by in the past 5 years, creating a mapping from the possible other names to the names in these lists. These data were saved in overlaps.json (Note that this list was done with the full 50 companies in the article, if you add any other company and they are known by a significantly different name in the past few years, make sure to add the entries in the dataset)\n",
    "\n",
    "For example, we realized that a few of the companies have been acquired in the past few years, so we mapped the old ones to the new ones for more accurate scoring."
   ]
  },
  {
   "cell_type": "markdown",
   "id": "db27ee0f",
   "metadata": {},
   "source": [
    "Now it's time to Scrape and structure CRO regulatory enforcement data - the following have been imported from the FDA dashboard:\n",
    "1. inspection_details\n",
    "2. inspection_citation_details\n",
    "3. published_483s\n",
    "\n",
    "With the link: [datadashboard.fda.gov](https://datadashboard.fda.gov/oii/cd/inspections.htm)\n",
    "\n",
    "The warning letters were acquired from the FDA website, but a different link this time: [www.fda.gov](https://www.fda.gov/inspections-compliance-enforcement-and-criminal-investigations/compliance-actions-and-activities/warning-letters)\n",
    "\n",
    "The data were downloaded in the form of excel and were converted it to csv\n",
    "\n",
    "In this stage we just load the data - and standardize each one for ease in combining."
   ]
  },
  {
   "cell_type": "markdown",
   "id": "faf8ead8",
   "metadata": {},
   "source": [
    "Here is How our standardizing works: "
   ]
  },
  {
   "cell_type": "code",
   "execution_count": 90,
   "id": "f94ee1ce",
   "metadata": {},
   "outputs": [
    {
     "data": {
      "text/html": [
       "<div>\n",
       "<style scoped>\n",
       "    .dataframe tbody tr th:only-of-type {\n",
       "        vertical-align: middle;\n",
       "    }\n",
       "\n",
       "    .dataframe tbody tr th {\n",
       "        vertical-align: top;\n",
       "    }\n",
       "\n",
       "    .dataframe thead th {\n",
       "        text-align: right;\n",
       "    }\n",
       "</style>\n",
       "<table border=\"1\" class=\"dataframe\">\n",
       "  <thead>\n",
       "    <tr style=\"text-align: right;\">\n",
       "      <th></th>\n",
       "      <th>non_standardized</th>\n",
       "      <th>cro_name_standardized</th>\n",
       "    </tr>\n",
       "  </thead>\n",
       "  <tbody>\n",
       "    <tr>\n",
       "      <th>0</th>\n",
       "      <td>quintiles</td>\n",
       "      <td>IQVIA</td>\n",
       "    </tr>\n",
       "    <tr>\n",
       "      <th>1</th>\n",
       "      <td>ims health</td>\n",
       "      <td>IQVIA</td>\n",
       "    </tr>\n",
       "  </tbody>\n",
       "</table>\n",
       "</div>"
      ],
      "text/plain": [
       "  non_standardized cro_name_standardized\n",
       "0        quintiles                 IQVIA\n",
       "1       ims health                 IQVIA"
      ]
     },
     "execution_count": 90,
     "metadata": {},
     "output_type": "execute_result"
    }
   ],
   "source": [
    "overlaps = pd.read_json(\"overlaps.json\")\n",
    "overlaps.head(2)"
   ]
  },
  {
   "cell_type": "code",
   "execution_count": 91,
   "id": "6c55861f",
   "metadata": {},
   "outputs": [],
   "source": [
    "#Using Fuzzy Search for best result\n",
    "from rapidfuzz import process, fuzz\n",
    "\n",
    "# 2- build a list of the strings to match against\n",
    "choices = overlaps['non_standardized'].tolist()\n",
    "def standardize(df,choices:list, non_standard_name:str):\n",
    "    # 1- Making sure we have a column of lowercase values without Nans.\n",
    "    df[\"name_lower\"] = df[non_standard_name].str.lower()\n",
    "    df = df.dropna(subset=['name_lower']).copy()\n",
    "    df['name_lower'] = df['name_lower'].astype(str)\n",
    "\n",
    "    # 2- apply to df — this creates a new column 'matched_nonstd'\n",
    "    df['matched_nonstd'] = df['name_lower'].apply(lambda nm: get_best_match(nm, choices))\n",
    "\n",
    "    # 3- drop anything that didn’t get a match\n",
    "    df = df.dropna(subset=['matched_nonstd']).reset_index(drop=True)\n",
    "\n",
    "    # 4- map that back to the standardized name\n",
    "    mapping = overlaps.set_index('non_standardized')['cro_name_standardized'].to_dict()\n",
    "    df['cro_name_standardized'] = df['matched_nonstd'].map(mapping)\n",
    "    df = df.drop([\"matched_nonstd\", \"name_lower\"], axis=1)\n",
    "\n",
    "    return df\n",
    "\n",
    "# helper that returns (best_match, score or None)\n",
    "def get_best_match(s, choices, thresh=90):\n",
    "    if not s:\n",
    "        return None\n",
    "    match, score, _ = process.extractOne(s, choices, scorer=fuzz.token_sort_ratio)\n",
    "    if score >= thresh:\n",
    "        return match\n",
    "    else:\n",
    "        return None"
   ]
  },
  {
   "cell_type": "code",
   "execution_count": 92,
   "id": "c29019a0",
   "metadata": {},
   "outputs": [
    {
     "data": {
      "text/html": [
       "<div>\n",
       "<style scoped>\n",
       "    .dataframe tbody tr th:only-of-type {\n",
       "        vertical-align: middle;\n",
       "    }\n",
       "\n",
       "    .dataframe tbody tr th {\n",
       "        vertical-align: top;\n",
       "    }\n",
       "\n",
       "    .dataframe thead th {\n",
       "        text-align: right;\n",
       "    }\n",
       "</style>\n",
       "<table border=\"1\" class=\"dataframe\">\n",
       "  <thead>\n",
       "    <tr style=\"text-align: right;\">\n",
       "      <th></th>\n",
       "      <th>FEI Number</th>\n",
       "      <th>Legal Name</th>\n",
       "      <th>City</th>\n",
       "      <th>State</th>\n",
       "      <th>Zip</th>\n",
       "      <th>Country/Area</th>\n",
       "      <th>Fiscal Year</th>\n",
       "      <th>Inspection ID</th>\n",
       "      <th>Posted Citations</th>\n",
       "      <th>Inspection End Date</th>\n",
       "      <th>Classification</th>\n",
       "      <th>Project Area</th>\n",
       "      <th>Product Type</th>\n",
       "      <th>Additional Details</th>\n",
       "      <th>FMD-145 Date</th>\n",
       "      <th>cro_name_standardized</th>\n",
       "    </tr>\n",
       "  </thead>\n",
       "  <tbody>\n",
       "    <tr>\n",
       "      <th>0</th>\n",
       "      <td>3006799640</td>\n",
       "      <td>Frontage Laboratories, Inc.</td>\n",
       "      <td>Exton</td>\n",
       "      <td>Pennsylvania</td>\n",
       "      <td>19341</td>\n",
       "      <td>United States</td>\n",
       "      <td>2025</td>\n",
       "      <td>1258228</td>\n",
       "      <td>Yes</td>\n",
       "      <td>2025-01-10</td>\n",
       "      <td>Voluntary Action Indicated (VAI)</td>\n",
       "      <td>Pre-Approval Eval. of Animal Drugs and Food Ad...</td>\n",
       "      <td>Veterinary</td>\n",
       "      <td>-</td>\n",
       "      <td>2025-02-11 00:00:00</td>\n",
       "      <td>Frontage Labs</td>\n",
       "    </tr>\n",
       "    <tr>\n",
       "      <th>1</th>\n",
       "      <td>3016465959</td>\n",
       "      <td>ICON Plc</td>\n",
       "      <td>Dublin 18</td>\n",
       "      <td>-</td>\n",
       "      <td>-</td>\n",
       "      <td>Ireland</td>\n",
       "      <td>2024</td>\n",
       "      <td>1242958</td>\n",
       "      <td>No</td>\n",
       "      <td>2024-05-24</td>\n",
       "      <td>No Action Indicated (NAI)</td>\n",
       "      <td>Bioresearch Monitoring</td>\n",
       "      <td>Drugs</td>\n",
       "      <td>Sponsor, Contract Research Organization</td>\n",
       "      <td>-</td>\n",
       "      <td>ICON plc</td>\n",
       "    </tr>\n",
       "  </tbody>\n",
       "</table>\n",
       "</div>"
      ],
      "text/plain": [
       "   FEI Number                   Legal Name       City         State    Zip  \\\n",
       "0  3006799640  Frontage Laboratories, Inc.      Exton  Pennsylvania  19341   \n",
       "1  3016465959                     ICON Plc  Dublin 18             -      -   \n",
       "\n",
       "    Country/Area  Fiscal Year  Inspection ID Posted Citations  \\\n",
       "0  United States         2025        1258228              Yes   \n",
       "1        Ireland         2024        1242958               No   \n",
       "\n",
       "  Inspection End Date                    Classification  \\\n",
       "0          2025-01-10  Voluntary Action Indicated (VAI)   \n",
       "1          2024-05-24         No Action Indicated (NAI)   \n",
       "\n",
       "                                        Project Area Product Type  \\\n",
       "0  Pre-Approval Eval. of Animal Drugs and Food Ad...   Veterinary   \n",
       "1                             Bioresearch Monitoring        Drugs   \n",
       "\n",
       "                        Additional Details         FMD-145 Date  \\\n",
       "0                                        -  2025-02-11 00:00:00   \n",
       "1  Sponsor, Contract Research Organization                    -   \n",
       "\n",
       "  cro_name_standardized  \n",
       "0         Frontage Labs  \n",
       "1              ICON plc  "
      ]
     },
     "execution_count": 92,
     "metadata": {},
     "output_type": "execute_result"
    }
   ],
   "source": [
    "# Load - Standardize - Show\n",
    "inspection_details = pd.read_csv(\"data/inspection_details_since2019.csv\")\n",
    "inspection_details = standardize(inspection_details, choices, \"Legal Name\")\n",
    "inspection_details.head(2)"
   ]
  },
  {
   "cell_type": "code",
   "execution_count": 93,
   "id": "372fed92",
   "metadata": {},
   "outputs": [
    {
     "data": {
      "text/html": [
       "<div>\n",
       "<style scoped>\n",
       "    .dataframe tbody tr th:only-of-type {\n",
       "        vertical-align: middle;\n",
       "    }\n",
       "\n",
       "    .dataframe tbody tr th {\n",
       "        vertical-align: top;\n",
       "    }\n",
       "\n",
       "    .dataframe thead th {\n",
       "        text-align: right;\n",
       "    }\n",
       "</style>\n",
       "<table border=\"1\" class=\"dataframe\">\n",
       "  <thead>\n",
       "    <tr style=\"text-align: right;\">\n",
       "      <th></th>\n",
       "      <th>Posted Date</th>\n",
       "      <th>Letter Issue Date</th>\n",
       "      <th>Company Name</th>\n",
       "      <th>Issuing Office</th>\n",
       "      <th>Subject</th>\n",
       "      <th>Response Letter</th>\n",
       "      <th>Closeout Letter</th>\n",
       "      <th>cro_name_standardized</th>\n",
       "    </tr>\n",
       "  </thead>\n",
       "  <tbody>\n",
       "  </tbody>\n",
       "</table>\n",
       "</div>"
      ],
      "text/plain": [
       "Empty DataFrame\n",
       "Columns: [Posted Date, Letter Issue Date, Company Name, Issuing Office, Subject, Response Letter, Closeout Letter, cro_name_standardized]\n",
       "Index: []"
      ]
     },
     "execution_count": 93,
     "metadata": {},
     "output_type": "execute_result"
    }
   ],
   "source": [
    "warning_letters = pd.read_csv(\"data/warning-letters.csv\")\n",
    "warning_letters = standardize(warning_letters, choices, \"Company Name\")\n",
    "#Just a side note, becuase these companies are top companies \n",
    "#    - I don't think they did get any warning letters or 483s in the past 5 years - however, I kept the logic here for when we want to check more companies\n",
    "warning_letters.head(2)"
   ]
  },
  {
   "cell_type": "code",
   "execution_count": 94,
   "id": "1be6c05b",
   "metadata": {},
   "outputs": [
    {
     "data": {
      "text/html": [
       "<div>\n",
       "<style scoped>\n",
       "    .dataframe tbody tr th:only-of-type {\n",
       "        vertical-align: middle;\n",
       "    }\n",
       "\n",
       "    .dataframe tbody tr th {\n",
       "        vertical-align: top;\n",
       "    }\n",
       "\n",
       "    .dataframe thead th {\n",
       "        text-align: right;\n",
       "    }\n",
       "</style>\n",
       "<table border=\"1\" class=\"dataframe\">\n",
       "  <thead>\n",
       "    <tr style=\"text-align: right;\">\n",
       "      <th></th>\n",
       "      <th>Record Date</th>\n",
       "      <th>FEI Number</th>\n",
       "      <th>Legal Name</th>\n",
       "      <th>Record Type</th>\n",
       "      <th>Publish Date</th>\n",
       "      <th>Download</th>\n",
       "      <th>Record ID</th>\n",
       "      <th>cro_name_standardized</th>\n",
       "    </tr>\n",
       "  </thead>\n",
       "  <tbody>\n",
       "  </tbody>\n",
       "</table>\n",
       "</div>"
      ],
      "text/plain": [
       "Empty DataFrame\n",
       "Columns: [Record Date, FEI Number, Legal Name, Record Type, Publish Date, Download, Record ID, cro_name_standardized]\n",
       "Index: []"
      ]
     },
     "execution_count": 94,
     "metadata": {},
     "output_type": "execute_result"
    }
   ],
   "source": [
    "published_483 = pd.read_csv(\"data/Published_483s.csv\")\n",
    "published_483 = standardize(published_483, choices, \"Legal Name\")\n",
    "published_483.head(2)"
   ]
  },
  {
   "cell_type": "code",
   "execution_count": 95,
   "id": "150d962f",
   "metadata": {},
   "outputs": [
    {
     "data": {
      "text/html": [
       "<div>\n",
       "<style scoped>\n",
       "    .dataframe tbody tr th:only-of-type {\n",
       "        vertical-align: middle;\n",
       "    }\n",
       "\n",
       "    .dataframe tbody tr th {\n",
       "        vertical-align: top;\n",
       "    }\n",
       "\n",
       "    .dataframe thead th {\n",
       "        text-align: right;\n",
       "    }\n",
       "</style>\n",
       "<table border=\"1\" class=\"dataframe\">\n",
       "  <thead>\n",
       "    <tr style=\"text-align: right;\">\n",
       "      <th></th>\n",
       "      <th>Inspection ID</th>\n",
       "      <th>FEI Number</th>\n",
       "      <th>Legal Name</th>\n",
       "      <th>Inspection End Date</th>\n",
       "      <th>Program Area</th>\n",
       "      <th>Act/CFR Number</th>\n",
       "      <th>Short Description</th>\n",
       "      <th>Long Description</th>\n",
       "      <th>cro_name_standardized</th>\n",
       "    </tr>\n",
       "  </thead>\n",
       "  <tbody>\n",
       "    <tr>\n",
       "      <th>0</th>\n",
       "      <td>1258228</td>\n",
       "      <td>3006799640</td>\n",
       "      <td>Frontage Laboratories, Inc.</td>\n",
       "      <td>2025-01-10</td>\n",
       "      <td>Drugs</td>\n",
       "      <td>21 CFR 211.84(d)(2)</td>\n",
       "      <td>Reports of Analysis (Components)</td>\n",
       "      <td>Reports of analysis from component suppliers a...</td>\n",
       "      <td>Frontage Labs</td>\n",
       "    </tr>\n",
       "    <tr>\n",
       "      <th>1</th>\n",
       "      <td>1258228</td>\n",
       "      <td>3006799640</td>\n",
       "      <td>Frontage Laboratories, Inc.</td>\n",
       "      <td>2025-01-10</td>\n",
       "      <td>Drugs</td>\n",
       "      <td>21 CFR 211.160(b)</td>\n",
       "      <td>Scientifically sound laboratory controls</td>\n",
       "      <td>Laboratory controls do not include the establi...</td>\n",
       "      <td>Frontage Labs</td>\n",
       "    </tr>\n",
       "  </tbody>\n",
       "</table>\n",
       "</div>"
      ],
      "text/plain": [
       "   Inspection ID  FEI Number                   Legal Name Inspection End Date  \\\n",
       "0        1258228  3006799640  Frontage Laboratories, Inc.          2025-01-10   \n",
       "1        1258228  3006799640  Frontage Laboratories, Inc.          2025-01-10   \n",
       "\n",
       "  Program Area       Act/CFR Number                         Short Description  \\\n",
       "0        Drugs  21 CFR 211.84(d)(2)          Reports of Analysis (Components)   \n",
       "1        Drugs    21 CFR 211.160(b)  Scientifically sound laboratory controls   \n",
       "\n",
       "                                    Long Description cro_name_standardized  \n",
       "0  Reports of analysis from component suppliers a...         Frontage Labs  \n",
       "1  Laboratory controls do not include the establi...         Frontage Labs  "
      ]
     },
     "execution_count": 95,
     "metadata": {},
     "output_type": "execute_result"
    }
   ],
   "source": [
    "icd = pd.read_csv(\"data/Inspection_Citation_Details.csv\")\n",
    "icd = standardize(icd, choices, \"Legal Name\")\n",
    "icd.head(2)"
   ]
  },
  {
   "cell_type": "markdown",
   "id": "343c84cb",
   "metadata": {},
   "source": [
    "Now it's time to merge datasets, we merge in the following order:\n",
    "\n",
    "- Inspection details and Inspection Citation Defails\n",
    "- result of above and published_483\n",
    "- result of above and warning letters\n",
    "\n",
    "We clean and each stage and we also clean in the end. "
   ]
  },
  {
   "cell_type": "code",
   "execution_count": 96,
   "id": "244cd059",
   "metadata": {},
   "outputs": [],
   "source": [
    "# We only care about the companies that have been inspected first, then we check for citation details\n",
    "inspection_merge = pd.merge(inspection_details, icd, how=\"left\", left_on=\"Inspection ID\", right_on=\"Inspection ID\")"
   ]
  },
  {
   "cell_type": "markdown",
   "id": "927c8641",
   "metadata": {},
   "source": [
    "Now we clean the merge:\n",
    "\n",
    "1. make sure the duplicated columns are actually duplicated and not have different values\n",
    "2. get rid of them and rename the columns"
   ]
  },
  {
   "cell_type": "code",
   "execution_count": 97,
   "id": "cbef1b01",
   "metadata": {},
   "outputs": [
    {
     "data": {
      "text/plain": [
       "Index(['FEI Number_x', 'Legal Name_x', 'City', 'State', 'Zip', 'Country/Area',\n",
       "       'Fiscal Year', 'Inspection ID', 'Posted Citations',\n",
       "       'Inspection End Date_x', 'Classification', 'Project Area',\n",
       "       'Product Type', 'Additional Details', 'FMD-145 Date',\n",
       "       'cro_name_standardized_x', 'FEI Number_y', 'Legal Name_y',\n",
       "       'Inspection End Date_y', 'Program Area', 'Act/CFR Number',\n",
       "       'Short Description', 'Long Description', 'cro_name_standardized_y'],\n",
       "      dtype='object')"
      ]
     },
     "execution_count": 97,
     "metadata": {},
     "output_type": "execute_result"
    }
   ],
   "source": [
    "# 1.\n",
    "inspection_merge.columns"
   ]
  },
  {
   "cell_type": "code",
   "execution_count": 98,
   "id": "78de8504",
   "metadata": {},
   "outputs": [
    {
     "data": {
      "text/html": [
       "<div>\n",
       "<style scoped>\n",
       "    .dataframe tbody tr th:only-of-type {\n",
       "        vertical-align: middle;\n",
       "    }\n",
       "\n",
       "    .dataframe tbody tr th {\n",
       "        vertical-align: top;\n",
       "    }\n",
       "\n",
       "    .dataframe thead th {\n",
       "        text-align: right;\n",
       "    }\n",
       "</style>\n",
       "<table border=\"1\" class=\"dataframe\">\n",
       "  <thead>\n",
       "    <tr style=\"text-align: right;\">\n",
       "      <th></th>\n",
       "      <th>FEI Number_x</th>\n",
       "      <th>FEI Number_y</th>\n",
       "      <th>Inspection End Date_x</th>\n",
       "      <th>Inspection End Date_y</th>\n",
       "      <th>cro_name_standardized_x</th>\n",
       "      <th>cro_name_standardized_y</th>\n",
       "    </tr>\n",
       "  </thead>\n",
       "  <tbody>\n",
       "  </tbody>\n",
       "</table>\n",
       "</div>"
      ],
      "text/plain": [
       "Empty DataFrame\n",
       "Columns: [FEI Number_x, FEI Number_y, Inspection End Date_x, Inspection End Date_y, cro_name_standardized_x, cro_name_standardized_y]\n",
       "Index: []"
      ]
     },
     "execution_count": 98,
     "metadata": {},
     "output_type": "execute_result"
    }
   ],
   "source": [
    "# Since there are no differences, we can merge the columns\n",
    "inspection_merge[((inspection_merge['Inspection End Date_y'] != inspection_merge['Inspection End Date_x']) |\n",
    "                 (inspection_merge['cro_name_standardized_y'] != inspection_merge['cro_name_standardized_x']) |\n",
    "                 (inspection_merge['FEI Number_y'] != inspection_merge['FEI Number_x']) ) &\n",
    "                 (inspection_merge[\"FEI Number_y\"].notna())][\n",
    "                     [\"FEI Number_x\",\n",
    "                       \"FEI Number_y\",\n",
    "                       'Inspection End Date_x',\n",
    "                       'Inspection End Date_y',\n",
    "                       \"cro_name_standardized_x\", \n",
    "                       \"cro_name_standardized_y\"]\n",
    "                ]"
   ]
  },
  {
   "cell_type": "code",
   "execution_count": 99,
   "id": "6d550b8a",
   "metadata": {},
   "outputs": [],
   "source": [
    "# Now we combine the columns and get rid of the old ones\n",
    "inspection_merge['FEI Number']        = inspection_merge['FEI Number_x'].fillna(inspection_merge['FEI Number_y'])\n",
    "inspection_merge['Inspection End Date'] = inspection_merge['Inspection End Date_x'].fillna(inspection_merge['Inspection End Date_y'])\n",
    "inspection_merge['cro_name_standardized']        = inspection_merge['cro_name_standardized_x'].fillna(inspection_merge['cro_name_standardized_y'])\n",
    "inspection_merge['Legal Name']        = inspection_merge['Legal Name_x'].fillna(inspection_merge['Legal Name_y'])\n",
    "\n",
    "\n",
    "inspection_merge = inspection_merge.drop([\n",
    "    'FEI Number_x','FEI Number_y',\n",
    "    'Inspection End Date_x','Inspection End Date_y',\n",
    "    'cro_name_standardized_x','cro_name_standardized_y',\n",
    "    'Legal Name_x','Legal Name_y'\n",
    "], axis=1)"
   ]
  },
  {
   "cell_type": "markdown",
   "id": "6429005b",
   "metadata": {},
   "source": [
    " - Merging published 483 with these data\n"
   ]
  },
  {
   "cell_type": "code",
   "execution_count": 100,
   "id": "c26a9c20",
   "metadata": {},
   "outputs": [],
   "source": [
    "inspection_merge = pd.merge(\n",
    "    inspection_merge, \n",
    "    published_483, \n",
    "    how=\"outer\", \n",
    "    left_on=[\"FEI Number\",\"Inspection End Date\"], \n",
    "    right_on=[\"FEI Number\", \"Record Date\"])"
   ]
  },
  {
   "cell_type": "code",
   "execution_count": 101,
   "id": "9a928375",
   "metadata": {},
   "outputs": [],
   "source": [
    "# Again we combine the columns and get rid of the old ones\n",
    "inspection_merge['Inspection End Date'] = inspection_merge['Inspection End Date'].fillna(inspection_merge['Record Date'])\n",
    "inspection_merge['cro_name_standardized']        = inspection_merge['cro_name_standardized_x'].fillna(inspection_merge['cro_name_standardized_y'])\n",
    "inspection_merge['Legal Name']        = inspection_merge['Legal Name_x'].fillna(inspection_merge['Legal Name_y'])\n",
    "\n",
    "inspection_merge = inspection_merge.drop([\n",
    "    'cro_name_standardized_x','cro_name_standardized_y',\n",
    "    'Legal Name_x','Legal Name_y',\n",
    "    'Record Date'\n",
    "], axis=1)"
   ]
  },
  {
   "cell_type": "markdown",
   "id": "f1a11a4b",
   "metadata": {},
   "source": [
    "- Combine with Warning Letters"
   ]
  },
  {
   "cell_type": "code",
   "execution_count": 102,
   "id": "fc1b65c9",
   "metadata": {},
   "outputs": [],
   "source": [
    "regulatory_data = pd.merge(\n",
    "    inspection_merge,\n",
    "    warning_letters,\n",
    "    how=\"outer\",\n",
    "    left_on=\"cro_name_standardized\",\n",
    "    right_on=\"cro_name_standardized\"\n",
    ")"
   ]
  },
  {
   "cell_type": "markdown",
   "id": "b156c416",
   "metadata": {},
   "source": [
    "- Now we clean it out to include only the columns that we want: (+adding the flags)"
   ]
  },
  {
   "cell_type": "code",
   "execution_count": 103,
   "id": "cfa76fa2",
   "metadata": {},
   "outputs": [],
   "source": [
    "# We also add the flags for if there is a 483 or a warning letter\n",
    "regulatory_data[\"has 483\"] = regulatory_data[\"Record Type\"] == 483\n",
    "regulatory_data[\"has warning\"] = regulatory_data[\"Subject\"].notna()\n",
    "\n",
    "# and normalize the flags\n",
    "regulatory_data[\"form_483_flag\"] = regulatory_data[\"has 483\"].astype(int)\n",
    "regulatory_data[\"warning_letter_flag\"] = regulatory_data[\"has warning\"].astype(int)\n",
    "\n",
    "\n",
    "regulatory_data = regulatory_data.drop([\n",
    "    # Inspection Details extra Columns\n",
    "    \"City\", # We werent asked about location\n",
    "    \"State\",\n",
    "    \"Zip\",\n",
    "    \"Country/Area\",\n",
    "    \"Product Type\",\n",
    "    \"Additional Details\", # Long Description and FMD-145 Date are just unnesseccary information at this point\n",
    "    \"FMD-145 Date\",\n",
    "    \"Fiscal Year\",\n",
    "    \n",
    "    # Inspection Citation Details Extra Columns\n",
    "    \"Program Area\",\n",
    "    \"Long Description\",\n",
    "\n",
    "    # Published 483 Extra Columns\n",
    "    \"Record Type\", # Record Type only gets the value 483, so we can just get rid of it. \n",
    "\n",
    "    #Warning Letters Extra Columns\n",
    "    \"Company Name\", # Same as Legal Name\n",
    "    \"Response Letter\", # We removed unimportant details about the letters here (e.g. issuing officer) \n",
    "    #                      - atp we onlt care about it's existance or not.\n",
    "    \"Issuing Office\",\n",
    "    \"Posted Date\",\n",
    "    \"Letter Issue Date\",\n",
    "    \"Closeout Letter\",\n",
    "\n",
    "    # Extra\n",
    "    \"has 483\",\n",
    "    \"has warning\",\n",
    "], axis=1)\n"
   ]
  },
  {
   "cell_type": "code",
   "execution_count": 104,
   "id": "5330aac7",
   "metadata": {},
   "outputs": [],
   "source": [
    "regulatory_data.rename(columns={\"Inspection End Date\": \"date_of_inspection\",\n",
    "                                \"Project Area\": \"type_of_issue\",\n",
    "                                \n",
    "                                }, inplace=True)\n",
    "regulatory_data.rename(columns={\"Inspection End Date\": \"date_of_inspection\"}, inplace=True)\n",
    "\n",
    "#Normalizing the data\n",
    "for c in regulatory_data.columns:\n",
    "    new = c.lower().replace(\" \", \"_\")\n",
    "    if c != new:\n",
    "        regulatory_data.rename(columns={c:new}, inplace=True) \n",
    "\n",
    "regulatory_data[\"source\"] = \"FDA_DASHBOARD\""
   ]
  },
  {
   "cell_type": "code",
   "execution_count": 105,
   "id": "9a05d806",
   "metadata": {},
   "outputs": [
    {
     "data": {
      "text/plain": [
       "Index(['inspection_id', 'posted_citations', 'classification', 'type_of_issue',\n",
       "       'act/cfr_number', 'short_description', 'fei_number',\n",
       "       'date_of_inspection', 'publish_date', 'download', 'record_id',\n",
       "       'cro_name_standardized', 'legal_name', 'subject', 'form_483_flag',\n",
       "       'warning_letter_flag', 'source'],\n",
       "      dtype='object')"
      ]
     },
     "execution_count": 105,
     "metadata": {},
     "output_type": "execute_result"
    }
   ],
   "source": [
    "regulatory_data.columns"
   ]
  },
  {
   "cell_type": "code",
   "execution_count": 106,
   "id": "e62aea0c",
   "metadata": {},
   "outputs": [],
   "source": [
    "# we just rearrange the columns to make it easier to understand\n",
    "regulatory_data = regulatory_data[['fei_number', 'cro_name_standardized', 'inspection_id', 'date_of_inspection', 'type_of_issue', 'classification', 'act/cfr_number', 'short_description', 'publish_date', 'form_483_flag' , 'warning_letter_flag', 'download', 'source', 'record_id']]"
   ]
  },
  {
   "cell_type": "markdown",
   "id": "367dc0e2",
   "metadata": {},
   "source": [
    "We save our merged dataset for ease in later use."
   ]
  },
  {
   "cell_type": "code",
   "execution_count": 107,
   "id": "5c1ce8d6",
   "metadata": {},
   "outputs": [],
   "source": [
    "regulatory_data.to_csv(\"data/regulatory_data_merged.csv\")"
   ]
  },
  {
   "cell_type": "markdown",
   "id": "38a16a6b",
   "metadata": {},
   "source": [
    "Now to get the data from trial-level performance data.\n",
    "\n",
    "We got the data from the following data [aact.ctti-clinicaltrials.org](https://aact.ctti-clinicaltrials.org/downloads) through the SQL dump, and then used postgreSQL to filter out the data we need and save it in our local device (This was annoying ngl) -- More details in markdown.\n",
    "\n",
    "So we just laod it now"
   ]
  },
  {
   "cell_type": "code",
   "execution_count": 108,
   "id": "084b16e2",
   "metadata": {},
   "outputs": [
    {
     "data": {
      "text/html": [
       "<div>\n",
       "<style scoped>\n",
       "    .dataframe tbody tr th:only-of-type {\n",
       "        vertical-align: middle;\n",
       "    }\n",
       "\n",
       "    .dataframe tbody tr th {\n",
       "        vertical-align: top;\n",
       "    }\n",
       "\n",
       "    .dataframe thead th {\n",
       "        text-align: right;\n",
       "    }\n",
       "</style>\n",
       "<table border=\"1\" class=\"dataframe\">\n",
       "  <thead>\n",
       "    <tr style=\"text-align: right;\">\n",
       "      <th></th>\n",
       "      <th>trial_identifier</th>\n",
       "      <th>cro_involved</th>\n",
       "      <th>withdrawals</th>\n",
       "      <th>enrolled</th>\n",
       "      <th>start_date</th>\n",
       "      <th>completion_date</th>\n",
       "      <th>estimated_completion_date</th>\n",
       "      <th>dropout_rate</th>\n",
       "      <th>country</th>\n",
       "      <th>city</th>\n",
       "      <th>cro_name_standardized</th>\n",
       "    </tr>\n",
       "  </thead>\n",
       "  <tbody>\n",
       "    <tr>\n",
       "      <th>0</th>\n",
       "      <td>NCT03869983</td>\n",
       "      <td>Syneos Health</td>\n",
       "      <td>NaN</td>\n",
       "      <td>24.0</td>\n",
       "      <td>2019-04-12</td>\n",
       "      <td>2019-05-15</td>\n",
       "      <td>NaN</td>\n",
       "      <td>NaN</td>\n",
       "      <td>Canada</td>\n",
       "      <td>Québec City</td>\n",
       "      <td>Syneos Health</td>\n",
       "    </tr>\n",
       "    <tr>\n",
       "      <th>1</th>\n",
       "      <td>NCT04712396</td>\n",
       "      <td>Parexel</td>\n",
       "      <td>NaN</td>\n",
       "      <td>11.0</td>\n",
       "      <td>2021-02-01</td>\n",
       "      <td>2021-03-25</td>\n",
       "      <td>NaN</td>\n",
       "      <td>NaN</td>\n",
       "      <td>Germany</td>\n",
       "      <td>Berlin</td>\n",
       "      <td>Parexel</td>\n",
       "    </tr>\n",
       "  </tbody>\n",
       "</table>\n",
       "</div>"
      ],
      "text/plain": [
       "  trial_identifier   cro_involved  withdrawals  enrolled  start_date  \\\n",
       "0      NCT03869983  Syneos Health          NaN      24.0  2019-04-12   \n",
       "1      NCT04712396        Parexel          NaN      11.0  2021-02-01   \n",
       "\n",
       "  completion_date estimated_completion_date  dropout_rate  country  \\\n",
       "0      2019-05-15                       NaN           NaN   Canada   \n",
       "1      2021-03-25                       NaN           NaN  Germany   \n",
       "\n",
       "          city cro_name_standardized  \n",
       "0  Québec City         Syneos Health  \n",
       "1       Berlin               Parexel  "
      ]
     },
     "execution_count": 108,
     "metadata": {},
     "output_type": "execute_result"
    }
   ],
   "source": [
    "# load - standardize - show\n",
    "CT_summary = pd.read_csv(\"data/clinicalTrials_summary.csv\")\n",
    "CT_summary = standardize(CT_summary, choices, \"cro_involved\")\n",
    "CT_summary.head(2)"
   ]
  },
  {
   "cell_type": "code",
   "execution_count": 109,
   "id": "f0ca83e2",
   "metadata": {},
   "outputs": [],
   "source": [
    "CT_summary['source'] = 'ClinicalTrials'"
   ]
  },
  {
   "cell_type": "code",
   "execution_count": 110,
   "id": "617176e1",
   "metadata": {},
   "outputs": [],
   "source": [
    "# Now we only get the CROS that are our targets - we will also get rid of the pervious names that are irrelevant\n",
    "regulatory_data = pd.merge(regulatory_data, targets, how=\"left\", left_on=\"cro_name_standardized\", right_on=\"name\").dropna(subset=\"name\").drop({\"name\"}, axis=1)\n",
    "CT_summary = pd.merge(CT_summary, targets, how=\"left\", left_on=\"cro_name_standardized\", right_on=\"name\").dropna(subset=\"name\").drop({\"name\", \"cro_involved\"}, axis=1)"
   ]
  },
  {
   "cell_type": "code",
   "execution_count": 111,
   "id": "d6b7283a",
   "metadata": {},
   "outputs": [
    {
     "data": {
      "text/html": [
       "<div>\n",
       "<style scoped>\n",
       "    .dataframe tbody tr th:only-of-type {\n",
       "        vertical-align: middle;\n",
       "    }\n",
       "\n",
       "    .dataframe tbody tr th {\n",
       "        vertical-align: top;\n",
       "    }\n",
       "\n",
       "    .dataframe thead th {\n",
       "        text-align: right;\n",
       "    }\n",
       "</style>\n",
       "<table border=\"1\" class=\"dataframe\">\n",
       "  <thead>\n",
       "    <tr style=\"text-align: right;\">\n",
       "      <th></th>\n",
       "      <th>fei_number</th>\n",
       "      <th>cro_name_standardized</th>\n",
       "      <th>inspection_id</th>\n",
       "      <th>date_of_inspection</th>\n",
       "      <th>type_of_issue</th>\n",
       "      <th>classification</th>\n",
       "      <th>act/cfr_number</th>\n",
       "      <th>short_description</th>\n",
       "      <th>publish_date</th>\n",
       "      <th>form_483_flag</th>\n",
       "      <th>...</th>\n",
       "      <th>notable_client</th>\n",
       "      <th>trial_identifier</th>\n",
       "      <th>withdrawals</th>\n",
       "      <th>enrolled</th>\n",
       "      <th>start_date</th>\n",
       "      <th>completion_date</th>\n",
       "      <th>estimated_completion_date</th>\n",
       "      <th>dropout_rate</th>\n",
       "      <th>country</th>\n",
       "      <th>city</th>\n",
       "    </tr>\n",
       "  </thead>\n",
       "  <tbody>\n",
       "    <tr>\n",
       "      <th>0</th>\n",
       "      <td>1.523647e+06</td>\n",
       "      <td>Charles River</td>\n",
       "      <td>1131689.0</td>\n",
       "      <td>2020-10-01</td>\n",
       "      <td>Bioresearch Monitoring</td>\n",
       "      <td>Voluntary Action Indicated (VAI)</td>\n",
       "      <td>NaN</td>\n",
       "      <td>NaN</td>\n",
       "      <td>NaN</td>\n",
       "      <td>0.0</td>\n",
       "      <td>...</td>\n",
       "      <td>Biogen, Regeneron</td>\n",
       "      <td>NaN</td>\n",
       "      <td>NaN</td>\n",
       "      <td>NaN</td>\n",
       "      <td>NaN</td>\n",
       "      <td>NaN</td>\n",
       "      <td>NaN</td>\n",
       "      <td>NaN</td>\n",
       "      <td>NaN</td>\n",
       "      <td>NaN</td>\n",
       "    </tr>\n",
       "    <tr>\n",
       "      <th>1</th>\n",
       "      <td>3.006500e+09</td>\n",
       "      <td>Charles River</td>\n",
       "      <td>1224863.0</td>\n",
       "      <td>2023-11-17</td>\n",
       "      <td>Human Cellular, Tissue, and Gene Therapies</td>\n",
       "      <td>No Action Indicated (NAI)</td>\n",
       "      <td>NaN</td>\n",
       "      <td>NaN</td>\n",
       "      <td>NaN</td>\n",
       "      <td>0.0</td>\n",
       "      <td>...</td>\n",
       "      <td>Biogen, Regeneron</td>\n",
       "      <td>NaN</td>\n",
       "      <td>NaN</td>\n",
       "      <td>NaN</td>\n",
       "      <td>NaN</td>\n",
       "      <td>NaN</td>\n",
       "      <td>NaN</td>\n",
       "      <td>NaN</td>\n",
       "      <td>NaN</td>\n",
       "      <td>NaN</td>\n",
       "    </tr>\n",
       "    <tr>\n",
       "      <th>2</th>\n",
       "      <td>3.007838e+09</td>\n",
       "      <td>Charles River</td>\n",
       "      <td>1097850.0</td>\n",
       "      <td>2019-07-26</td>\n",
       "      <td>Bioresearch Monitoring</td>\n",
       "      <td>Voluntary Action Indicated (VAI)</td>\n",
       "      <td>NaN</td>\n",
       "      <td>NaN</td>\n",
       "      <td>NaN</td>\n",
       "      <td>0.0</td>\n",
       "      <td>...</td>\n",
       "      <td>Biogen, Regeneron</td>\n",
       "      <td>NaN</td>\n",
       "      <td>NaN</td>\n",
       "      <td>NaN</td>\n",
       "      <td>NaN</td>\n",
       "      <td>NaN</td>\n",
       "      <td>NaN</td>\n",
       "      <td>NaN</td>\n",
       "      <td>NaN</td>\n",
       "      <td>NaN</td>\n",
       "    </tr>\n",
       "    <tr>\n",
       "      <th>3</th>\n",
       "      <td>3.015687e+09</td>\n",
       "      <td>Charles River</td>\n",
       "      <td>1123355.0</td>\n",
       "      <td>2020-03-19</td>\n",
       "      <td>Drug Quality Assurance</td>\n",
       "      <td>No Action Indicated (NAI)</td>\n",
       "      <td>NaN</td>\n",
       "      <td>NaN</td>\n",
       "      <td>NaN</td>\n",
       "      <td>0.0</td>\n",
       "      <td>...</td>\n",
       "      <td>Biogen, Regeneron</td>\n",
       "      <td>NaN</td>\n",
       "      <td>NaN</td>\n",
       "      <td>NaN</td>\n",
       "      <td>NaN</td>\n",
       "      <td>NaN</td>\n",
       "      <td>NaN</td>\n",
       "      <td>NaN</td>\n",
       "      <td>NaN</td>\n",
       "      <td>NaN</td>\n",
       "    </tr>\n",
       "    <tr>\n",
       "      <th>4</th>\n",
       "      <td>3.015687e+09</td>\n",
       "      <td>Charles River</td>\n",
       "      <td>1191225.0</td>\n",
       "      <td>2022-11-09</td>\n",
       "      <td>Drug Quality Assurance</td>\n",
       "      <td>No Action Indicated (NAI)</td>\n",
       "      <td>NaN</td>\n",
       "      <td>NaN</td>\n",
       "      <td>NaN</td>\n",
       "      <td>0.0</td>\n",
       "      <td>...</td>\n",
       "      <td>Biogen, Regeneron</td>\n",
       "      <td>NaN</td>\n",
       "      <td>NaN</td>\n",
       "      <td>NaN</td>\n",
       "      <td>NaN</td>\n",
       "      <td>NaN</td>\n",
       "      <td>NaN</td>\n",
       "      <td>NaN</td>\n",
       "      <td>NaN</td>\n",
       "      <td>NaN</td>\n",
       "    </tr>\n",
       "  </tbody>\n",
       "</table>\n",
       "<p>5 rows × 25 columns</p>\n",
       "</div>"
      ],
      "text/plain": [
       "     fei_number cro_name_standardized  inspection_id date_of_inspection  \\\n",
       "0  1.523647e+06         Charles River      1131689.0         2020-10-01   \n",
       "1  3.006500e+09         Charles River      1224863.0         2023-11-17   \n",
       "2  3.007838e+09         Charles River      1097850.0         2019-07-26   \n",
       "3  3.015687e+09         Charles River      1123355.0         2020-03-19   \n",
       "4  3.015687e+09         Charles River      1191225.0         2022-11-09   \n",
       "\n",
       "                                type_of_issue  \\\n",
       "0                      Bioresearch Monitoring   \n",
       "1  Human Cellular, Tissue, and Gene Therapies   \n",
       "2                      Bioresearch Monitoring   \n",
       "3                      Drug Quality Assurance   \n",
       "4                      Drug Quality Assurance   \n",
       "\n",
       "                     classification act/cfr_number short_description  \\\n",
       "0  Voluntary Action Indicated (VAI)            NaN               NaN   \n",
       "1         No Action Indicated (NAI)            NaN               NaN   \n",
       "2  Voluntary Action Indicated (VAI)            NaN               NaN   \n",
       "3         No Action Indicated (NAI)            NaN               NaN   \n",
       "4         No Action Indicated (NAI)            NaN               NaN   \n",
       "\n",
       "  publish_date  form_483_flag  ...     notable_client trial_identifier  \\\n",
       "0          NaN            0.0  ...  Biogen, Regeneron              NaN   \n",
       "1          NaN            0.0  ...  Biogen, Regeneron              NaN   \n",
       "2          NaN            0.0  ...  Biogen, Regeneron              NaN   \n",
       "3          NaN            0.0  ...  Biogen, Regeneron              NaN   \n",
       "4          NaN            0.0  ...  Biogen, Regeneron              NaN   \n",
       "\n",
       "  withdrawals  enrolled start_date completion_date estimated_completion_date  \\\n",
       "0         NaN       NaN        NaN             NaN                       NaN   \n",
       "1         NaN       NaN        NaN             NaN                       NaN   \n",
       "2         NaN       NaN        NaN             NaN                       NaN   \n",
       "3         NaN       NaN        NaN             NaN                       NaN   \n",
       "4         NaN       NaN        NaN             NaN                       NaN   \n",
       "\n",
       "   dropout_rate  country city  \n",
       "0           NaN      NaN  NaN  \n",
       "1           NaN      NaN  NaN  \n",
       "2           NaN      NaN  NaN  \n",
       "3           NaN      NaN  NaN  \n",
       "4           NaN      NaN  NaN  \n",
       "\n",
       "[5 rows x 25 columns]"
      ]
     },
     "execution_count": 111,
     "metadata": {},
     "output_type": "execute_result"
    }
   ],
   "source": [
    "unified_schema = pd.concat([regulatory_data, CT_summary])\n",
    "unified_schema.head()"
   ]
  },
  {
   "cell_type": "code",
   "execution_count": 112,
   "id": "7404a66a",
   "metadata": {},
   "outputs": [],
   "source": [
    "unified_schema.to_csv(\"data/unified_schema.csv\", index=False)"
   ]
  },
  {
   "cell_type": "markdown",
   "id": "759881dc",
   "metadata": {},
   "source": []
  },
  {
   "cell_type": "markdown",
   "id": "7c953ca2",
   "metadata": {},
   "source": []
  },
  {
   "cell_type": "markdown",
   "id": "0b3f9806",
   "metadata": {},
   "source": []
  },
  {
   "cell_type": "markdown",
   "id": "e24afaee",
   "metadata": {},
   "source": [
    "## Evaluating"
   ]
  },
  {
   "cell_type": "markdown",
   "id": "a5c9a276",
   "metadata": {},
   "source": [
    "To summarize our key finidngs, we realized that the 20 companies bareley recieved any form 483 or warning letter in the past 5 years (which is what we were asked to cover), hence this is not a great indicator for how the CROs are behaving However, what we did understand from this task is written bellow. \n",
    "\n",
    "\n",
    "There are around 2-3 inspections each year for each company which makes it hard to base our scoring criteria on how many inspections they have recently had. Moreover, we want the current state of a CRO which is why it's also hard to go too back in time to how the company was doing back then. To have a better understand of what a company does, other facotrs should be taken into conisderation. -- Moreover, when going through the files, we realized that some of the inpsection officier have not recorded all their data and hand written it, which to get a better sense of how they work, it's better to get access to that.\n",
    "\n",
    "\n",
    "Here is how each company is behvaing according to our current data with visualizations using matplotlib:"
   ]
  },
  {
   "cell_type": "code",
   "execution_count": 113,
   "id": "106d4aef",
   "metadata": {},
   "outputs": [],
   "source": [
    "import matplotlib.pyplot as plt\n",
    "import numpy as np"
   ]
  },
  {
   "cell_type": "code",
   "execution_count": 114,
   "id": "8e71fadb",
   "metadata": {},
   "outputs": [
    {
     "data": {
      "text/plain": [
       "array(['Charles River', 'Fortrea', 'Frontage Labs', 'ICON plc', 'IQVIA',\n",
       "       'Lotus Clinical Research', 'Parexel', 'Precision for Medicine',\n",
       "       'Syneos Health', 'Worldwide Clinical Trials'], dtype=object)"
      ]
     },
     "execution_count": 114,
     "metadata": {},
     "output_type": "execute_result"
    }
   ],
   "source": [
    "# Here are the companies who had an appearance on the list \n",
    "#  - note that if a company is not on a this list doesn't neccessarly mean that the company is good or bad\n",
    "#  It simply means that the inspection officer took notes on paper and did not electrolize them. \n",
    "regulatory_data['cro_name_standardized'].unique()"
   ]
  },
  {
   "cell_type": "code",
   "execution_count": 115,
   "id": "8ec06382",
   "metadata": {},
   "outputs": [
    {
     "data": {
      "text/html": [
       "<div>\n",
       "<style scoped>\n",
       "    .dataframe tbody tr th:only-of-type {\n",
       "        vertical-align: middle;\n",
       "    }\n",
       "\n",
       "    .dataframe tbody tr th {\n",
       "        vertical-align: top;\n",
       "    }\n",
       "\n",
       "    .dataframe thead th {\n",
       "        text-align: right;\n",
       "    }\n",
       "</style>\n",
       "<table border=\"1\" class=\"dataframe\">\n",
       "  <thead>\n",
       "    <tr style=\"text-align: right;\">\n",
       "      <th></th>\n",
       "      <th>fei_number</th>\n",
       "      <th>cro_name_standardized</th>\n",
       "      <th>inspection_id</th>\n",
       "      <th>date_of_inspection</th>\n",
       "      <th>type_of_issue</th>\n",
       "      <th>classification</th>\n",
       "      <th>act/cfr_number</th>\n",
       "      <th>short_description</th>\n",
       "      <th>publish_date</th>\n",
       "      <th>form_483_flag</th>\n",
       "      <th>warning_letter_flag</th>\n",
       "      <th>download</th>\n",
       "      <th>source</th>\n",
       "      <th>record_id</th>\n",
       "      <th>specialization</th>\n",
       "      <th>notable_client</th>\n",
       "    </tr>\n",
       "  </thead>\n",
       "  <tbody>\n",
       "    <tr>\n",
       "      <th>0</th>\n",
       "      <td>1523647</td>\n",
       "      <td>Charles River</td>\n",
       "      <td>1131689</td>\n",
       "      <td>2020-10-01</td>\n",
       "      <td>Bioresearch Monitoring</td>\n",
       "      <td>Voluntary Action Indicated (VAI)</td>\n",
       "      <td>NaN</td>\n",
       "      <td>NaN</td>\n",
       "      <td>NaN</td>\n",
       "      <td>0</td>\n",
       "      <td>0</td>\n",
       "      <td>NaN</td>\n",
       "      <td>FDA_DASHBOARD</td>\n",
       "      <td>NaN</td>\n",
       "      <td>Preclinical, early-phase</td>\n",
       "      <td>Biogen, Regeneron</td>\n",
       "    </tr>\n",
       "    <tr>\n",
       "      <th>1</th>\n",
       "      <td>3006500433</td>\n",
       "      <td>Charles River</td>\n",
       "      <td>1224863</td>\n",
       "      <td>2023-11-17</td>\n",
       "      <td>Human Cellular, Tissue, and Gene Therapies</td>\n",
       "      <td>No Action Indicated (NAI)</td>\n",
       "      <td>NaN</td>\n",
       "      <td>NaN</td>\n",
       "      <td>NaN</td>\n",
       "      <td>0</td>\n",
       "      <td>0</td>\n",
       "      <td>NaN</td>\n",
       "      <td>FDA_DASHBOARD</td>\n",
       "      <td>NaN</td>\n",
       "      <td>Preclinical, early-phase</td>\n",
       "      <td>Biogen, Regeneron</td>\n",
       "    </tr>\n",
       "  </tbody>\n",
       "</table>\n",
       "</div>"
      ],
      "text/plain": [
       "   fei_number cro_name_standardized  inspection_id date_of_inspection  \\\n",
       "0     1523647         Charles River        1131689         2020-10-01   \n",
       "1  3006500433         Charles River        1224863         2023-11-17   \n",
       "\n",
       "                                type_of_issue  \\\n",
       "0                      Bioresearch Monitoring   \n",
       "1  Human Cellular, Tissue, and Gene Therapies   \n",
       "\n",
       "                     classification act/cfr_number short_description  \\\n",
       "0  Voluntary Action Indicated (VAI)            NaN               NaN   \n",
       "1         No Action Indicated (NAI)            NaN               NaN   \n",
       "\n",
       "  publish_date  form_483_flag  warning_letter_flag download         source  \\\n",
       "0          NaN              0                    0      NaN  FDA_DASHBOARD   \n",
       "1          NaN              0                    0      NaN  FDA_DASHBOARD   \n",
       "\n",
       "   record_id            specialization     notable_client  \n",
       "0        NaN  Preclinical, early-phase  Biogen, Regeneron  \n",
       "1        NaN  Preclinical, early-phase  Biogen, Regeneron  "
      ]
     },
     "execution_count": 115,
     "metadata": {},
     "output_type": "execute_result"
    }
   ],
   "source": [
    "regulatory_data.head(2)"
   ]
  },
  {
   "cell_type": "code",
   "execution_count": 116,
   "id": "4d7529a4",
   "metadata": {},
   "outputs": [
    {
     "data": {
      "text/plain": [
       "<BarContainer object of 10 artists>"
      ]
     },
     "execution_count": 116,
     "metadata": {},
     "output_type": "execute_result"
    },
    {
     "data": {
      "image/png": "[encoded data removed]",
      "text/plain": [
       "<Figure size 2200x1500 with 1 Axes>"
      ]
     },
     "metadata": {},
     "output_type": "display_data"
    }
   ],
   "source": [
    "count = regulatory_data['cro_name_standardized'].value_counts()\n",
    "plt.figure(figsize=(22,15))\n",
    "plt.bar(count.index, count.values)"
   ]
  },
  {
   "cell_type": "markdown",
   "id": "dbeb10fb",
   "metadata": {},
   "source": [
    "According to this graph, Syneon Health had the most visits which suggests that something might have been wrong, and the others in the middle must have been the ones with normal activities."
   ]
  },
  {
   "cell_type": "code",
   "execution_count": 135,
   "id": "c0afd82f",
   "metadata": {},
   "outputs": [
    {
     "data": {
      "text/plain": [
       "Index(['trial_identifier', 'withdrawals', 'enrolled', 'start_date',\n",
       "       'completion_date', 'estimated_completion_date', 'dropout_rate',\n",
       "       'country', 'city', 'cro_name_standardized', 'source', 'specialization',\n",
       "       'notable_client'],\n",
       "      dtype='object')"
      ]
     },
     "execution_count": 135,
     "metadata": {},
     "output_type": "execute_result"
    }
   ],
   "source": [
    "# we create a copy to mess around with it:\n",
    "ct_copy = CT_summary.copy()\n",
    "ct_copy.columns"
   ]
  },
  {
   "cell_type": "markdown",
   "id": "be54f10b",
   "metadata": {},
   "source": [
    "When talking about Clinical Trials, there are several ways to measure success, one being how far off they were from each estimation, and the dropout rate."
   ]
  },
  {
   "cell_type": "markdown",
   "id": "ab0bc484",
   "metadata": {},
   "source": [
    "1. Estimation Completion vs actual completion:"
   ]
  },
  {
   "cell_type": "code",
   "execution_count": 136,
   "id": "4a6d6774",
   "metadata": {},
   "outputs": [],
   "source": [
    "# make sure your columns are datetime dtype\n",
    "ct_copy['estimated_completion_date'] = pd.to_datetime(\n",
    "    ct_copy['estimated_completion_date'], errors='coerce'\n",
    ")\n",
    "ct_copy['completion_date'] = pd.to_datetime(\n",
    "    ct_copy['completion_date'], errors='coerce'\n",
    ")\n",
    "\n",
    "# build a mask of rows where both dates are present\n",
    "both_present = (\n",
    "    ct_copy['estimated_completion_date'].notna() &\n",
    "    ct_copy['completion_date'].notna()\n",
    ")\n",
    "\n",
    "# compute the difference only where both are non-null; elsewhere you get NaT\n",
    "ct_copy['diff'] = (\n",
    "    ct_copy['estimated_completion_date']\n",
    "    - ct_copy['completion_date']\n",
    ")\n",
    "# ct_copy[['cro_name_standardized', 'diff']]"
   ]
  },
  {
   "cell_type": "code",
   "execution_count": 140,
   "id": "8033e382",
   "metadata": {},
   "outputs": [
    {
     "name": "stdout",
     "output_type": "stream",
     "text": [
      "cro_name_standardized\n",
      "CTI Clinical                 526 days\n",
      "Clinlogix                   1742 days\n",
      "FHI Clinical                  62 days\n",
      "Fortrea                      685 days\n",
      "ICON plc                    1658 days\n",
      "PSI CRO                     1829 days\n",
      "Parexel                      850 days\n",
      "ProPharma Group              177 days\n",
      "Syneos Health                654 days\n",
      "Worldwide Clinical Trials    269 days\n",
      "Name: diff, dtype: timedelta64[ns]\n"
     ]
    },
    {
     "data": {
      "image/png": "[encoded data removed]",
      "text/plain": [
       "<Figure size 2200x1500 with 1 Axes>"
      ]
     },
     "metadata": {},
     "output_type": "display_data"
    }
   ],
   "source": [
    "med = ct_copy[ct_copy['estimated_completion_date'].notna() & ct_copy['completion_date'].notna()].groupby('cro_name_standardized')['diff'].median()\n",
    "plt.figure(figsize=(22,15))\n",
    "plt.bar(med.index, med.values)\n",
    "print(med)"
   ]
  },
  {
   "cell_type": "markdown",
   "id": "a67bd507",
   "metadata": {},
   "source": [
    "this shows that some companies like Clinogix and PSI CRO underestimate their studies by too long which is not a good sign. \n",
    "\n",
    "Moreover, this also shows that some CROs like IQVIA don't share their clinical trials data (which was also faced when going through [clinicaltrials.gov](https://clinicaltrials.gov/))\n",
    "\n",
    "Now the last piece is dropout rates"
   ]
  },
  {
   "cell_type": "code",
   "execution_count": 141,
   "id": "c2122659",
   "metadata": {},
   "outputs": [
    {
     "name": "stdout",
     "output_type": "stream",
     "text": [
      "cro_name_standardized\n",
      "Atlantic Research Group      0.121951\n",
      "CTI Clinical                 0.118056\n",
      "Celerion                     0.032258\n",
      "Clinipace                    1.000000\n",
      "Clinlogix                    0.209877\n",
      "FHI Clinical                 0.083333\n",
      "Fortrea                      0.206290\n",
      "George Clinical              0.481240\n",
      "ICON plc                     0.207531\n",
      "IQVIA                        0.360146\n",
      "Lotus Clinical Research      0.072289\n",
      "Parexel                      0.117280\n",
      "Pharm-Olam                   0.112926\n",
      "Syneos Health                0.224785\n",
      "Veristat                     0.032609\n",
      "Worldwide Clinical Trials    0.171053\n",
      "Name: dropout_rate, dtype: float64\n"
     ]
    },
    {
     "data": {
      "image/png": "[encoded data removed]",
      "text/plain": [
       "<Figure size 2200x1500 with 1 Axes>"
      ]
     },
     "metadata": {},
     "output_type": "display_data"
    }
   ],
   "source": [
    "med = ct_copy[ct_copy['dropout_rate'].notna()].groupby('cro_name_standardized')['dropout_rate'].median()\n",
    "plt.figure(figsize=(22,15))\n",
    "plt.bar(med.index, med.values)\n",
    "print(med)"
   ]
  },
  {
   "cell_type": "code",
   "execution_count": null,
   "id": "5a675568",
   "metadata": {},
   "outputs": [],
   "source": []
  },
  {
   "cell_type": "markdown",
   "id": "174d2e9a",
   "metadata": {},
   "source": [
    "Again this showcases that Clinpace is struggelling with the dropout rates or that there are errors in their systems, and in the second place, George Clinical is struggelling the most. Moreover, it seems as if Celeriona and Veristat are doing the best"
   ]
  },
  {
   "cell_type": "code",
   "execution_count": 143,
   "id": "dfcd71a7",
   "metadata": {},
   "outputs": [
    {
     "data": {
      "text/plain": [
       "Index(['trial_identifier', 'withdrawals', 'enrolled', 'start_date',\n",
       "       'completion_date', 'estimated_completion_date', 'dropout_rate',\n",
       "       'country', 'city', 'cro_name_standardized', 'source', 'specialization',\n",
       "       'notable_client', 'diff'],\n",
       "      dtype='object')"
      ]
     },
     "execution_count": 143,
     "metadata": {},
     "output_type": "execute_result"
    }
   ],
   "source": [
    "ct_copy.columns"
   ]
  },
  {
   "cell_type": "markdown",
   "id": "c0056026",
   "metadata": {},
   "source": [
    "Overall, it seems as if Fortrea is doing the best considering that they have the middle ground on the number of visits in a year which showcases that they were an average target to the eyes of FDA, moreover, they have lower values on dropout rates and on the difference between the actual and estimated completion dates. "
   ]
  }
 ],
 "metadata": {
  "kernelspec": {
   "display_name": "venv",
   "language": "python",
   "name": "python3"
  },
  "language_info": {
   "codemirror_mode": {
    "name": "ipython",
    "version": 3
   },
   "file_extension": ".py",
   "mimetype": "text/x-python",
   "name": "python",
   "nbconvert_exporter": "python",
   "pygments_lexer": "ipython3",
   "version": "3.12.6"
  }
 },
 "nbformat": 4,
 "nbformat_minor": 5
}
